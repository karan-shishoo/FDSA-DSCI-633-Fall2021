{
 "cells": [
  {
   "cell_type": "markdown",
   "metadata": {},
   "source": [
    "## RIT DSCI-633: Foundations of Data Science and Analytics\n",
    "## Assignment 1\n",
    "### Due: 11:59 pm EST, Saturday, Oct 2, 2021"
   ]
  },
  {
   "cell_type": "markdown",
   "metadata": {},
   "source": [
    "### Problem 1 (10 points)\n",
    "\n",
    "In statistics and probability theory, the law of large numbers is a theorem that describes the result of\n",
    "repeating the same experiment a large number of times. The theorem states that if the same\n",
    "experiment or study is repeated independently a large number of times, the average of the results of\n",
    "the trials must be close to the expected value. The result becomes closer to the expected value as the\n",
    "number of trials is increased. Let us look at a specific experiment.\n",
    "\n",
    "Assume you have a Gaussian distribution (commonly called a “bell curve”) with mean µ and std\n",
    "deviation σ. The area under the curve that lies between σ and 2σ, and –σ and -2σ is approximately\n",
    "27.2%. In other words, approximately 27.2% of numbers generated randomly using this distribution will\n",
    "fall in the range [µ + σ, µ + 2σ] or [µ - 2σ, µ - σ], as shown below.\n",
    "\n",
    "Generate N random numbers that follow a Gaussian distribution with µ = 100, σ = 10, and count the\n",
    "numbers M that fall into the ranges above. Print the fraction M/N. Repeat this for N = 10, 100, 1000,\n",
    "10000, and 1000000.\n",
    "\n",
    "Does the fraction start to approach 27.2%?\n"
   ]
  },
  {
   "cell_type": "markdown",
   "metadata": {},
   "source": [
    "### Solution"
   ]
  },
  {
   "cell_type": "code",
   "execution_count": 2,
   "metadata": {},
   "outputs": [
    {
     "name": "stdout",
     "output_type": "stream",
     "text": [
      "percentage for N = 10 : 40.0\n",
      "percentage for N = 100 : 25.0\n",
      "percentage for N = 1000 : 28.1\n",
      "percentage for N = 10000 : 27.52\n",
      "percentage for N = 1000000 : 27.220100000000002\n"
     ]
    }
   ],
   "source": [
    "import numpy as np\n",
    "import matplotlib.pyplot as plt\n",
    "%matplotlib inline\n",
    "plt.rcParams[\"figure.figsize\"] = [15, 10]\n",
    "mu, sigma = 100, 10 # mean and standard deviation\n",
    "s_ten = np.random.normal(mu, sigma, 10)\n",
    "s_hun = np.random.normal(mu, sigma, 100)\n",
    "s_tho = np.random.normal(mu, sigma, 1000)\n",
    "s_tenthou = np.random.normal(mu, sigma, 10000)\n",
    "s_mil = np.random.normal(mu, sigma, 1000000)\n",
    "\n",
    "count_s_ten = ((110 < s_ten) & (s_ten < 120)).sum() + ((80 < s_ten) & (s_ten < 90)).sum()\n",
    "count_s_hun = ((110 < s_hun) & (s_hun < 120)).sum() + ((80 < s_hun) & (s_hun < 90)).sum()\n",
    "count_s_tho = ((110 < s_tho) & (s_tho < 120)).sum() + ((80 < s_tho) & (s_tho < 90)).sum()\n",
    "count_s_tenthou = ((110 < s_tenthou) & (s_tenthou < 120)).sum() + ((80 < s_tenthou) & (s_tenthou < 90)).sum()\n",
    "count_s_mil = ((110 < s_mil) & (s_mil < 120)).sum() + ((80 < s_mil) & (s_mil < 90)).sum()\n",
    "\n",
    "p_s_ten = count_s_ten/10\n",
    "p_s_hun = count_s_hun/100\n",
    "p_s_tho = count_s_tho/1000\n",
    "p_s_tenthou = count_s_tenthou/10000\n",
    "p_s_mil = count_s_mil/1000000\n",
    "\n",
    "\n",
    "print(\"percentage for N = 10 : \" + str(p_s_ten*100))\n",
    "print(\"percentage for N = 100 : \" + str(p_s_hun*100))\n",
    "print(\"percentage for N = 1000 : \" + str(p_s_tho*100))\n",
    "print(\"percentage for N = 10000 : \" + str(p_s_tenthou*100))\n",
    "print(\"percentage for N = 1000000 : \" + str(p_s_mil*100))\n",
    "\n"
   ]
  },
  {
   "cell_type": "markdown",
   "metadata": {},
   "source": [
    "The fraction does start to approach 27.2%"
   ]
  },
  {
   "cell_type": "markdown",
   "metadata": {},
   "source": [
    "### Problem 2 (5 points)\n",
    "\n",
    "Imagine you have a dataset of movie ratings for a set of 500 popular movies and a set of 1000 users.\n",
    "Each data sample contains the ratings of each movie (from 1 to 5 stars) by a specific user. The rating is\n",
    "an integer in the range [0,5], with a value of 0 means that the user did not watch that movie.\n",
    "How would you convert this data to a form suitable for association analysis? In particular, what type of\n",
    "attributes would you have and how many of them?\n",
    "\n"
   ]
  },
  {
   "cell_type": "markdown",
   "metadata": {},
   "source": [
    "### Solution"
   ]
  },
  {
   "cell_type": "markdown",
   "metadata": {},
   "source": [
    "Given that we have six values to compare with (ratings from 0 to five) we can use asymetric binarization to convert the rating attribute into six binary attributes such as 'watched', 'rating 1', rating '2','rating 3', rating '4', and 'rating 5' which have values of either 0 or 1. In this form the data will be siutable for association analysis as we have one binary attribute per categorical value."
   ]
  },
  {
   "cell_type": "markdown",
   "metadata": {},
   "source": [
    "### Problem 3 (5 points)\n",
    "\n",
    "Distinguish between noise and outliers\n",
    "\n",
    "1. True or False ? Noise may be in the form of noisy attribute values, or noise objects.\n",
    "2. True or False ? Noise is sometimes desirable.\n",
    "3. True or False ? Outliers are sometimes desirable.\n",
    "4. True or False ? Noise objects may or may not be outliers. Explain your reasoning.\n",
    "5. True or False ? Outlier objects may or may not be noise. Explain your reasoning."
   ]
  },
  {
   "cell_type": "markdown",
   "metadata": {},
   "source": [
    "### Solution"
   ]
  },
  {
   "cell_type": "markdown",
   "metadata": {},
   "source": [
    "1. True, Noise can manifest as noisy attributes or objects\n",
    "\n",
    "2. False, Noise is never desirable\n",
    "\n",
    "3. True, Sometimes detecting outliers is the point of the data models (for example in case of identifying fraud)\n",
    "\n",
    "4. True, there no exclusitivity between outliers and noise, noise objects are extraneous object which can manifest as outliers or in other ways.\n",
    "\n",
    "5. True, there no exclusitivity between outliers and noise, Outliers are just objects with characteristics that are considerably different than other data objects, this can be due to noise or other effects"
   ]
  },
  {
   "cell_type": "markdown",
   "metadata": {},
   "source": [
    "### Problem 4 (20 points)\n",
    "Download the ‘Diamonds’ dataset from https://www.kaggle.com/shivam2503/diamonds.\n",
    "1. Based on the description of the dataset provided at the site, categorize each attribute of the data as\n",
    "discrete or continuous, qualitative (nominal or ordinal), or quantitative (interval or ratio)  (5 points)\n",
    "e.g. Age in years: Discrete, Quantitative, Ratio.\n",
    "2. Load the CSV data file into a Pandas DataFrame object and display the first 5 rows. (2 points)\n",
    "3. Calculate summary statistics:\n",
    "a. For each quantitative attribute: find the mean, median, standard deviation, and range. (3.5 points)\n",
    "b. For each qualitative attribute, find the mode. (1.5 points)\n",
    "c. Find the Interquartile Range (IQR) of the ‘price’ variable. (0.5 points)\n",
    "4. What fraction of the data samples have ‘cut’ that is ‘very good’ or better ? Create a bar plot\n",
    "showing the distribution of the data samples by ‘cut’ (one bar for each value of cut). (2.5 points)\n",
    "5. Plot a histogram of the 'carat' variable. (2 points)\n",
    "6. Plot a scatter plot of ‘carat’ vs ‘price’. (2 points)\n",
    "7. Compute the correlation between ‘carat’ and ‘price’. (1 point)"
   ]
  },
  {
   "cell_type": "markdown",
   "metadata": {},
   "source": [
    "### Solution"
   ]
  },
  {
   "cell_type": "markdown",
   "metadata": {},
   "source": [
    "#### Solution 4.1"
   ]
  },
  {
   "cell_type": "markdown",
   "metadata": {},
   "source": [
    "carat   : Continuous, quantitative  ratio (carat is a measure of weight)\\\n",
    "cut     : Discrete qualitative ordinal \\\n",
    "color   : Discrete qualitative ordinal \\\n",
    "clarity : Discrete qualitative ordinal \\\n",
    "depth   : Continuous quantitative ratio \\\n",
    "table   : Discrete quantitative ratio \\\n",
    "price   : Continuous quantitative ratio\\\n",
    "x       : Continuous quantitative ratio \\\n",
    "y       : Continuous quantitative ratio \\\n",
    "z       : Continuous quantitative ratio"
   ]
  },
  {
   "cell_type": "markdown",
   "metadata": {},
   "source": [
    "#### Solution 4.2"
   ]
  },
  {
   "cell_type": "code",
   "execution_count": 7,
   "metadata": {},
   "outputs": [
    {
     "name": "stdout",
     "output_type": "stream",
     "text": [
      "       Unnamed: 0  carat        cut color clarity  depth  table  price     x  \\\n",
      "0               1   0.23      Ideal     E     SI2   61.5   55.0    326  3.95   \n",
      "1               2   0.21    Premium     E     SI1   59.8   61.0    326  3.89   \n",
      "2               3   0.23       Good     E     VS1   56.9   65.0    327  4.05   \n",
      "3               4   0.29    Premium     I     VS2   62.4   58.0    334  4.20   \n",
      "4               5   0.31       Good     J     SI2   63.3   58.0    335  4.34   \n",
      "...           ...    ...        ...   ...     ...    ...    ...    ...   ...   \n",
      "53935       53936   0.72      Ideal     D     SI1   60.8   57.0   2757  5.75   \n",
      "53936       53937   0.72       Good     D     SI1   63.1   55.0   2757  5.69   \n",
      "53937       53938   0.70  Very Good     D     SI1   62.8   60.0   2757  5.66   \n",
      "53938       53939   0.86    Premium     H     SI2   61.0   58.0   2757  6.15   \n",
      "53939       53940   0.75      Ideal     D     SI2   62.2   55.0   2757  5.83   \n",
      "\n",
      "          y     z  \n",
      "0      3.98  2.43  \n",
      "1      3.84  2.31  \n",
      "2      4.07  2.31  \n",
      "3      4.23  2.63  \n",
      "4      4.35  2.75  \n",
      "...     ...   ...  \n",
      "53935  5.76  3.50  \n",
      "53936  5.75  3.61  \n",
      "53937  5.68  3.56  \n",
      "53938  6.12  3.74  \n",
      "53939  5.87  3.64  \n",
      "\n",
      "[53940 rows x 11 columns]\n"
     ]
    }
   ],
   "source": [
    "import pandas as pd\n",
    "\n",
    "diamonds = pd.read_csv ('diamonds.csv')\n",
    "print (diamonds)"
   ]
  },
  {
   "cell_type": "markdown",
   "metadata": {},
   "source": [
    "#### Solution 4.3"
   ]
  },
  {
   "cell_type": "code",
   "execution_count": 21,
   "metadata": {},
   "outputs": [
    {
     "name": "stdout",
     "output_type": "stream",
     "text": [
      "Mean for quantitative attributes\n",
      "carat       0.797940\n",
      "depth      61.749405\n",
      "table      57.457184\n",
      "price    3932.799722\n",
      "x           5.731157\n",
      "y           5.734526\n",
      "z           3.538734\n",
      "dtype: float64\n",
      "\n",
      "Median for quantitative attributes\n",
      "carat       0.70\n",
      "depth      61.80\n",
      "table      57.00\n",
      "price    2401.00\n",
      "x           5.70\n",
      "y           5.71\n",
      "z           3.53\n",
      "dtype: float64\n",
      "\n",
      "Standard deviation for quantitative attributes\n",
      "carat       0.474011\n",
      "depth       1.432621\n",
      "table       2.234491\n",
      "price    3989.439738\n",
      "x           1.121761\n",
      "y           1.142135\n",
      "z           0.705699\n",
      "dtype: float64\n",
      "\n",
      "Range for quantitative attributes\n",
      "carat        4.81\n",
      "depth       36.00\n",
      "table       52.00\n",
      "price    18497.00\n",
      "x           10.74\n",
      "y           58.90\n",
      "z           31.80\n",
      "dtype: float64\n",
      "\n",
      "Mode for qualitative attributes\n",
      "     cut color clarity\n",
      "0  Ideal     G     SI1\n",
      "\n",
      "IQR for the price attribute\n",
      "4374.25\n"
     ]
    }
   ],
   "source": [
    "print(\"Mean for quantitative attributes\")\n",
    "print(diamonds[[\"carat\", \"depth\", \"table\", \"price\", \"x\", \"y\", \"z\"]].mean())\n",
    "print()\n",
    "\n",
    "print(\"Median for quantitative attributes\")\n",
    "print(diamonds[[\"carat\", \"depth\", \"table\", \"price\", \"x\", \"y\", \"z\"]].median())\n",
    "print()\n",
    "\n",
    "print(\"Standard deviation for quantitative attributes\")\n",
    "print(diamonds[[\"carat\", \"depth\", \"table\", \"price\", \"x\", \"y\", \"z\"]].std())\n",
    "print()\n",
    "\n",
    "print(\"Range for quantitative attributes\")\n",
    "print(diamonds[[\"carat\", \"depth\", \"table\", \"price\", \"x\", \"y\", \"z\"]].max() - diamonds[[\"carat\", \"depth\", \"table\", \"price\", \"x\", \"y\", \"z\"]].min()) \n",
    "print()\n",
    "\n",
    "print(\"Mode for qualitative attributes\")\n",
    "print(diamonds[[\"cut\", \"color\", \"clarity\"]].mode())\n",
    "print()\n",
    "\n",
    "print(\"IQR for the price attribute\")\n",
    "print(np.percentile(diamonds['price'], 75) - np.percentile(diamonds['price'], 25) )"
   ]
  },
  {
   "cell_type": "markdown",
   "metadata": {},
   "source": [
    "#### Solution 4.4"
   ]
  },
  {
   "cell_type": "code",
   "execution_count": 22,
   "metadata": {},
   "outputs": [
    {
     "name": "stdout",
     "output_type": "stream",
     "text": [
      "Ideal        39.953652\n",
      "Premium      25.567297\n",
      "Very Good    22.398962\n",
      "Good          9.095291\n",
      "Fair          2.984798\n",
      "Name: cut, dtype: float64\n",
      "\n",
      "87.919911% of the data has a cut rating of VERY GOOD or better\n"
     ]
    },
    {
     "data": {
      "image/png": "[encoded data removed]",
      "text/plain": [
       "<Figure size 1080x720 with 1 Axes>"
      ]
     },
     "metadata": {
      "needs_background": "light"
     },
     "output_type": "display_data"
    }
   ],
   "source": [
    " value = diamonds['cut'].value_counts(normalize=True) * 100\n",
    "print(value)\n",
    "print()\n",
    "print(\"87.919911% of the data has a cut rating of VERY GOOD or better\")\n",
    "\n",
    "diamonds['cut'].value_counts().plot(kind='bar', edgecolor='black', linewidth=1.2);"
   ]
  },
  {
   "cell_type": "markdown",
   "metadata": {},
   "source": [
    "#### Solution 4.5"
   ]
  },
  {
   "cell_type": "code",
   "execution_count": 21,
   "metadata": {},
   "outputs": [
    {
     "name": "stdout",
     "output_type": "stream",
     "text": [
      "histogram for carat data\n"
     ]
    },
    {
     "data": {
      "image/png": "[encoded data removed]",
      "text/plain": [
       "<Figure size 1080x720 with 1 Axes>"
      ]
     },
     "metadata": {
      "needs_background": "light"
     },
     "output_type": "display_data"
    }
   ],
   "source": [
    "print(\"histogram for carat data\")\n",
    "ax = diamonds['carat'].plot.hist(bins= 20, label = 'carat', edgecolor='black', linewidth=1.2)\n",
    "  \n",
    "# Set title\n",
    "ax.set_title(\"Carat Histogram\")\n",
    "  \n",
    "# adding labels\n",
    "ax.set_xlabel('Carats')\n",
    "ax.set_ylabel('Count')\n",
    "ax.grid()\n",
    "  "
   ]
  },
  {
   "cell_type": "markdown",
   "metadata": {},
   "source": [
    "#### Solution 4.6"
   ]
  },
  {
   "cell_type": "code",
   "execution_count": 23,
   "metadata": {},
   "outputs": [
    {
     "name": "stdout",
     "output_type": "stream",
     "text": [
      "scatter plot of ‘carat’ vs ‘price’\n"
     ]
    },
    {
     "data": {
      "image/png": "[encoded data removed]",
      "text/plain": [
       "<Figure size 1080x720 with 1 Axes>"
      ]
     },
     "metadata": {
      "needs_background": "light"
     },
     "output_type": "display_data"
    }
   ],
   "source": [
    "print(\"scatter plot of ‘carat’ vs ‘price’\")\n",
    "\n",
    "ax = diamonds.plot.scatter(x='carat', y='price', c='DarkBlue')\n",
    "ax.grid()"
   ]
  },
  {
   "cell_type": "markdown",
   "metadata": {},
   "source": [
    "#### Solution 4.7"
   ]
  },
  {
   "cell_type": "code",
   "execution_count": 64,
   "metadata": {},
   "outputs": [
    {
     "name": "stdout",
     "output_type": "stream",
     "text": [
      "correlation between ‘carat’ and ‘price’ - 92.16%\n"
     ]
    }
   ],
   "source": [
    "print(\"correlation between ‘carat’ and ‘price’ - \" + \"%.2f\" % (diamonds['carat'].corr(diamonds['price'])*100) + \"%\")"
   ]
  },
  {
   "cell_type": "markdown",
   "metadata": {},
   "source": [
    "### Problem 5 (4 points)\n",
    "\n",
    "We have a collection of m documents.\n",
    "\n",
    "Let us say we would like to compare two documents x and y using their document term vectors. \n",
    "\n",
    "Let tf_ij be the frequency of the ith word (term) in the jth document\n",
    "\n",
    "1. Let the vocabulary size (the dimensionality of the vectors) be n. What is a good measure of similarity for this purpose ? Write the formula for it in terms of tf_ij.\n",
    "\n",
    "2. Consider the variable transformation given by idf_ij = tf_ij * log(m/df_i), where df_i is the document frequency, i.e. the number of documents in which the ith term occurs. The transformed variable idf_ij is called the inverse document frequency. What are the advantages of using this transformed variable instead of the original in the similarity computation ?"
   ]
  },
  {
   "cell_type": "markdown",
   "metadata": {},
   "source": [
    "### Solution"
   ]
  },
  {
   "cell_type": "markdown",
   "metadata": {},
   "source": [
    "#### Solution 5.1"
   ]
  },
  {
   "cell_type": "markdown",
   "metadata": {},
   "source": [
    "In the case of document term vectors, cosine similarity is a good measure of similarity for such purposes"
   ]
  },
  {
   "cell_type": "code",
   "execution_count": 1,
   "metadata": {},
   "outputs": [],
   "source": [
    "#### Calculating cosine similarity between two documents x and y -\n",
    "#### cos( x, y ) =  <x,y> / ||x|| ||y||\n",
    "#### Assuming that the setup is 0 indexed we can calculate each term as follows -\n",
    "# top_sum = 0\n",
    "# bot_x = 0\n",
    "# bot_y = 0\n",
    "# for i in range(n):\n",
    "#     top_sum += tf_ix * tf_iy\n",
    "#     bot_x += tf_ix**2\n",
    "#     bot_y += yf_iy**2\n",
    "# return top_sum/(math.sqrt(bot_x)*math.sqrt(bot_y))"
   ]
  },
  {
   "cell_type": "markdown",
   "metadata": {},
   "source": [
    "#### Solution 5.2"
   ]
  },
  {
   "cell_type": "markdown",
   "metadata": {},
   "source": [
    "The transformed variable (inverse document frequency) takes into account how frequent the term is in general across the documents. Thus common words such as 'is', 'as', 'the' which occour across a majority of the documents will have low scores, this will make it easier to balance similarities between documents by giving more weight to words that are more notably similar between the documents. It prevents documents that have a high density of common words being marked as similar while still matching uncommon words between the documents"
   ]
  },
  {
   "cell_type": "markdown",
   "metadata": {},
   "source": [
    "\n",
    "    "
   ]
  },
  {
   "cell_type": "markdown",
   "metadata": {},
   "source": [
    "### Problem 6 (6 points)\n",
    "\n",
    "Write Python functions to compute the Hamming (L1) distance, SMC and Jaccard similarity coefficient between two binary vectors. Use them to these proximity measures between the following vectors:\n",
    "\n",
    "x = 1010101010101 \n",
    "\n",
    "y = 1000100010001"
   ]
  },
  {
   "cell_type": "markdown",
   "metadata": {},
   "source": [
    "### Solution"
   ]
  },
  {
   "cell_type": "code",
   "execution_count": 19,
   "metadata": {},
   "outputs": [
    {
     "name": "stdout",
     "output_type": "stream",
     "text": [
      "Hamming distance - 3\n",
      "SMC distance - 0.7692307692307693\n",
      "Jaccard distance - 0.5714285714285714\n"
     ]
    }
   ],
   "source": [
    "def hamming(x, y):\n",
    "    count = 0\n",
    "    for i in range(len(x)):\n",
    "        if x[i] != y[i]: \n",
    "            count += 1\n",
    "    \n",
    "    return count\n",
    "\n",
    "def SMC(x,y):\n",
    "    count = 0\n",
    "    for i in range(len(x)):\n",
    "        if x[i] == y[i]: \n",
    "            count += 1\n",
    "    \n",
    "    return count/len(x)\n",
    "\n",
    "def Jaccard(x,y):\n",
    "    count_1 = 0\n",
    "    count_0 = 0\n",
    "    for i in range(len(x)):\n",
    "        if x[i] == y[i] == '1': \n",
    "            count_1 += 1\n",
    "        elif x[i] == y[i] == '0':\n",
    "            count_0 += 1\n",
    "    return count_1/(len(x) - count_0)\n",
    "\n",
    "print(\"Hamming distance - \" +  str(hamming('1010101010101', '1000100010001')))\n",
    "print(\"SMC distance - \" +  str(SMC('1010101010101', '1000100010001')))\n",
    "print(\"Jaccard distance - \" +  str(Jaccard('1010101010101', '1000100010001')))\n"
   ]
  },
  {
   "cell_type": "markdown",
   "metadata": {},
   "source": [
    "### Problem 7 (6 points)\n",
    "\n",
    "Calculate the indicated similarity or distance measures of the vectors show below (you can do this by hand or by writing code, but please show the computation either way):\n",
    "\n",
    "x = (1,1,1,1) and y = (3,3,3,3) : cosine, correlation, Euclidean\n",
    "\n",
    "x = (0,1,0,1,0,1) and y = (1,0,1,0,1,0) : cosine, correlation, Euclidean, Jaccard \n",
    "\n",
    "x = (1,1,0,1,0,1) and y = (1,1,1,0,0,1) : cosine, correlation, Lmax, Jaccard"
   ]
  },
  {
   "cell_type": "markdown",
   "metadata": {},
   "source": [
    "### Solution"
   ]
  },
  {
   "cell_type": "code",
   "execution_count": 1,
   "metadata": {},
   "outputs": [
    {
     "name": "stdout",
     "output_type": "stream",
     "text": [
      "PART 1\n",
      "Cosine for 1111 and 3333 is : 1.0\n",
      "Correlation for 1111 and 3333 is : 1.0\n",
      "Euclidean distance for 1111 and 3333 is : 4.0\n",
      "\n",
      "PART 2\n",
      "Cosine for 010101 and 101010 is : 0.0\n",
      "Correlation for 010101 and 101010 is : 0.9230769230769231\n",
      "Euclidean distance for 010101 and 101010 is : 2.449489742783178\n",
      "Jaccard similarity for 010101 and 101010 is : 0.0\n",
      "\n",
      "PART 3\n",
      "Cosine for 110101 and 111001 is : 0.75\n",
      "Correlation for 110101 and 111001 is : 0.9852941176470588\n",
      "Lmax distance for 110101 and 111001 is : 1\n",
      "Jaccard similarity for 110101 and 111001 is : 0.6\n"
     ]
    }
   ],
   "source": [
    "import math\n",
    "def cosine(x, y):\n",
    "    top_sum = 0\n",
    "    bot_x = 0\n",
    "    bot_y = 0\n",
    "    for i in range(len(x)):\n",
    "        top_sum += int(x[i])*int(y[i])\n",
    "        bot_x += int(x[i])*int(x[i])\n",
    "        bot_y += int(y[i])*int(y[i])\n",
    "    return(top_sum/(math.sqrt(bot_x)*math.sqrt(bot_y)))\n",
    "\n",
    "def mean(x):\n",
    "    sum = 0\n",
    "    for i in range(len(x)):\n",
    "        sum += int(x[i])\n",
    "    return sum\n",
    "\n",
    "def covar(x, y):\n",
    "    sum = 0\n",
    "    mean_x = mean(x)\n",
    "    mean_y = mean(y)\n",
    "    for i in range(len(x)):\n",
    "        sum += (int(x[i]) - mean_x)*(int(y[i]) - mean_y)\n",
    "    return sum/(len(x) - 1)\n",
    "\n",
    "def standard_dev(x):\n",
    "    sum = 0\n",
    "    mean_x = mean(x)\n",
    "    for i in range(len(x)):\n",
    "        sum += (int(x[i]) - mean_x)**2\n",
    "    return math.sqrt(sum/(len(x) - 1))\n",
    "\n",
    "def correlation(x, y):\n",
    "    return covar(x, y)/(standard_dev(x) * standard_dev(y))\n",
    "\n",
    "def euclidean(x, y):\n",
    "    sum = 0\n",
    "    for i in range(len(x)):\n",
    "        sum += (int(x[i]) - int(y[i]))**2\n",
    "    return math.sqrt(sum)\n",
    "\n",
    "def Jaccard(x,y):\n",
    "    count_1 = 0\n",
    "    count_0 = 0\n",
    "    for i in range(len(x)):\n",
    "        if x[i] == y[i] == '1': \n",
    "            count_1 += 1\n",
    "        elif x[i] == y[i] == '0':\n",
    "            count_0 += 1\n",
    "    return count_1/(len(x) - count_0)   \n",
    "\n",
    "def Lmax(x,y):\n",
    "    max_val = 0\n",
    "    for i in range(len(x)):\n",
    "        max_val = max(max_val, abs(int(x[i]) - int(y[i])))\n",
    "    return max_val\n",
    "\n",
    "print(\"PART 1\")\n",
    "print('Cosine for 1111 and 3333 is : ' + str(cosine('1111', '3333')))\n",
    "print('Correlation for 1111 and 3333 is : ' + str(correlation('1111', '3333')))\n",
    "print('Euclidean distance for 1111 and 3333 is : ' + str(euclidean('1111', '3333')))\n",
    "print('')\n",
    "print(\"PART 2\")\n",
    "print('Cosine for 010101 and 101010 is : ' + str(cosine('010101', '101010')))\n",
    "print('Correlation for 010101 and 101010 is : ' + str(correlation('010101', '101010')))\n",
    "print('Euclidean distance for 010101 and 101010 is : ' + str(euclidean('010101', '101010')))\n",
    "print('Jaccard similarity for 010101 and 101010 is : ' + str(Jaccard('010101', '101010')))\n",
    "print('')\n",
    "print(\"PART 3\")\n",
    "print('Cosine for 110101 and 111001 is : ' + str(cosine('110101', '111001')))\n",
    "print('Correlation for 110101 and 111001 is : ' + str(correlation('110101', '111001')))\n",
    "print('Lmax distance for 110101 and 111001 is : ' + str(Lmax('110101', '111001')))\n",
    "print('Jaccard similarity for 110101 and 111001 is : ' + str(Jaccard('110101', '111001')))"
   ]
  },
  {
   "cell_type": "markdown",
   "metadata": {},
   "source": [
    "### Submission instructions\n",
    "\n",
    "1. Your assignment should be completed by filling in the empty solution cells in this Jupyter notebook file (.ipynb). Feel free to add more cells as needed.\n",
    "\n",
    "2. Please comment your code using either markdown or #comments and use meaningful variable names to make it as readable and intelligible as possible.\n",
    "\n",
    "3. Write your code in the form of functions. For example: \n",
    "\n",
    "    def my_code ():\n",
    "\n",
    "          #Write code here\n",
    "      \n",
    "          return \"The return value\"\n",
    "          \n",
    "\n",
    "4. If the problem is to find the value of 'x', printing 'x = (your answer)' will help us identify if your code worked.\n",
    "\n",
    "\n",
    "5. For code that refers to local data files downloaded from the internet, please keep the file path simple (e.g. ~/downloads/datafilename) so that it works on our copy of the dataset. Please do not modify either the filename or the file contents in any way.\n",
    "\n",
    "6. Solution to problems that do not require any coding can be typed up in their own cells using markdown.\n",
    "    \n",
    "7. Unless there are legitimate circumstances, late assignments will not be accepted.\n",
    "\n",
    "8. All assignments are individual.\n",
    "\n",
    "9. All the sources used for problem solution must be acknowledged, e.g. web sites, books, research papers, etc.\n",
    "\n",
    "10. Academic integrity is taken seriously; for detailed information see the RIT Honor Code and with RIT's Academic Integrity Policy."
   ]
  },
  {
   "cell_type": "code",
   "execution_count": null,
   "metadata": {},
   "outputs": [],
   "source": []
  }
 ],
 "metadata": {
  "kernelspec": {
   "display_name": "Python 3 (ipykernel)",
   "language": "python",
   "name": "python3"
  },
  "language_info": {
   "codemirror_mode": {
    "name": "ipython",
    "version": 3
   },
   "file_extension": ".py",
   "mimetype": "text/x-python",
   "name": "python",
   "nbconvert_exporter": "python",
   "pygments_lexer": "ipython3",
   "version": "3.9.6"
  }
 },
 "nbformat": 4,
 "nbformat_minor": 2
}
